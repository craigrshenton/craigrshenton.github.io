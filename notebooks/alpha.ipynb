{
 "cells": [
  {
   "cell_type": "markdown",
   "metadata": {},
   "source": [
    "# Measuring the finacial performance of real-estate assets.\n",
    "## Part 1. Returns\n",
    "\n",
    "In this three part series I'm going to be looking at how we can use data science to measure the finacial performance of real-estate (property) assets. I'll be introducing concepts from high finance (alpha $\\alpha$ in part 2. and beta $\\beta$ in part 3.), but adapting them for everyday use. In part 1. I first clean and prepare the [Land Registry](http://landregistry.data.gov.uk/) transaction data and explore the distribution of returns (pre-tax profits) we can expect form the UK housing market."
   ]
  },
  {
   "cell_type": "markdown",
   "metadata": {},
   "source": [
    "## 1.0 Land Registry - Prices Paid database\n",
    "\n",
    "I download the 'Prices Paid' data as a .CSV file from http://landregistry.data.gov.uk/. Here you can download the full dataset, but its 3+GB. For convinience I limit my sample to properties bought and sold in 2016. Below in the Land Registry's description of what is included. Each element on the list below corresponds to a column in the data file.\n",
    "\n",
    "1. **Transaction unique identifier** - A reference number which is generated automatically recording each published sale. The number is unique and will change each time a sale is recorded.\n",
    "\n",
    "2. **Price** - Sale price stated on the transfer deed.\n",
    "\n",
    "3. **Date of Transfer** - Date when the sale was completed, as stated on the transfer deed.\n",
    "\n",
    "4. **Postcode** - This is the postcode used at the time of the original transaction. Note that postcodes can be reallocated and these changes are not reflected in the Price Paid Dataset.\n",
    "\n",
    "5. **Property Type** - Note that they do not separately identify bungalows. End-of-terrace properties are included in the Terraced category. ‘Other’ is only valid where the transaction relates to a property type that is not covered by existing values.\n",
    "    * D = Detached\n",
    "    * S = Semi-Detached\n",
    "    * T = Terraced\n",
    "    * F = Flats/Maisonettes\n",
    "    * O = Other \n",
    "\n",
    "6. **Old/New**\tIndicates the age of the property and applies to all price paid transactions, residential and non-residential.\n",
    "    * Y = a newly built property\n",
    "    * N = an established residential building\n",
    "7. **Duration**\tRelates to the tenure: \n",
    "    * F = Freehold\n",
    "    * L= Leasehold\n",
    "Note that Land Registry does not record leases of 7 years or less in the Price Paid Dataset.\n",
    "\n",
    "8. **PAON,\tPrimary Addressable Object Name.** If there is a sub-building for example the building is divided into flats, see Secondary Addressable Object Name (SAON).\n",
    "\n",
    "9. **SAON\tSecondary Addressable Object Name.** If there is a sub-building, for example the building is divided into flats, there will be a SAON.\n",
    "\n",
    "10. **Street**\n",
    "\n",
    "11. **Locality**\n",
    "\n",
    "12. **Town/City**\n",
    "\n",
    "13. **District** \n",
    "\n",
    "14. **County**\t \n",
    "\n",
    "15. **PPD Category Type** - Indicates the type of Price Paid transaction. Note that category B does not separately identify the transaction types stated. Land Registry has been collecting information on Category A transactions from January 1995. Category B transactions were identified from October 2013\n",
    "    * A = Standard Price Paid entry, includes single residential property sold for full market value.\n",
    "    * B = Additional Price Paid entry including transfers under a power of sale/repossessions, buy-to-lets (where they can be identified by a Mortgage) and transfers to non-private individuals..\n",
    "\n",
    "16. **Record Status** - Monthly file only. Indicates additions, changes and deletions to the records.(see guide below).\n",
    "    * A = Addition\n",
    "    * C = Change\n",
    "    * D = Delete.\n"
   ]
  },
  {
   "cell_type": "markdown",
   "metadata": {},
   "source": [
    "## 1.1 Cleaning the data\n",
    "\n",
    "First, I load up the .CSV file into pandas."
   ]
  },
  {
   "cell_type": "code",
   "execution_count": 1,
   "metadata": {
    "collapsed": false
   },
   "outputs": [],
   "source": [
    "import pandas as pd              # pandas dataframe lib\n",
    "import datetime as dt            # datetime lib for handling dates\n",
    "import matplotlib.pyplot as plt  # matplotlib for plots and graphs\n",
    "import seaborn.apionly as sns    # seaborn for nicer looking plots\n",
    "sns.set()\n",
    "\n",
    "df = pd.read_csv(open('pp-2016-part1.csv','rb')) # read the .csv file\n",
    "cols = ['transaction_id','sale_price','sale_date','postcode','type','new_build','lease','PAON','SAON','street',\n",
    "        'locality','town','district','county','trans_type','record_type']\n",
    "df.columns = [cols] # rename the columns to be more readable"
   ]
  },
  {
   "cell_type": "markdown",
   "metadata": {},
   "source": [
    "There are quite a few columns that we are not going to need for this analysis, so we can use .drop to get rid of them stright away."
   ]
  },
  {
   "cell_type": "code",
   "execution_count": 2,
   "metadata": {
    "collapsed": false
   },
   "outputs": [
    {
     "data": {
      "text/plain": [
       "(411901, 6)"
      ]
     },
     "execution_count": 2,
     "metadata": {},
     "output_type": "execute_result"
    }
   ],
   "source": [
    "# drop unused cols\n",
    "df = df.drop(['town','county','trans_type','record_type','locality',\n",
    "                            'new_build','lease','district','street','transaction_id'], axis=1)\n",
    "df.shape # number of rows and cols"
   ]
  },
  {
   "cell_type": "markdown",
   "metadata": {},
   "source": [
    "Each of the ~400,000 entries relates to a specific transaction, and not a specific property. So I create a way to identify each unique property based on the house number (['PAON'] and ['SAON']) and ['postcode']. I then filter the transactions to keep those rows with duplicate identities so that all the properties remaining must have been bought *and* sold at least once within the period under study."
   ]
  },
  {
   "cell_type": "code",
   "execution_count": 3,
   "metadata": {
    "collapsed": false
   },
   "outputs": [
    {
     "data": {
      "text/plain": [
       "(4991, 6)"
      ]
     },
     "execution_count": 3,
     "metadata": {},
     "output_type": "execute_result"
    }
   ],
   "source": [
    "identity = ['postcode','PAON','SAON'] # unique identifier information\n",
    "df = df[df[identity].duplicated(keep=False)] # only keep transactions with duplicate identities\n",
    "df.shape # down to ~5000 properties"
   ]
  },
  {
   "cell_type": "markdown",
   "metadata": {},
   "source": [
    "I noticed that some transactions are duplicated despite having different ['transaction_id'] values! So I filter these out using the property ID and the sale date."
   ]
  },
  {
   "cell_type": "code",
   "execution_count": 4,
   "metadata": {
    "collapsed": false
   },
   "outputs": [
    {
     "data": {
      "text/plain": [
       "(3616, 6)"
      ]
     },
     "execution_count": 4,
     "metadata": {},
     "output_type": "execute_result"
    }
   ],
   "source": [
    "# filter duplicate transactions based on unique identifier information and ['end_date']\n",
    "df = df[~df[['postcode','PAON','SAON','sale_date']].duplicated(keep=False)]\n",
    "df.shape # down to 3616 properties"
   ]
  },
  {
   "cell_type": "markdown",
   "metadata": {},
   "source": [
    "Finally, I give each property a unique ID and sort transactions by date."
   ]
  },
  {
   "cell_type": "code",
   "execution_count": 5,
   "metadata": {
    "collapsed": false
   },
   "outputs": [],
   "source": [
    "# add unique property id\n",
    "df2 = df[identity].drop_duplicates() # get unique values\n",
    "df2 = df2.reset_index(drop = True).reset_index()  # reset index to create a col named index\n",
    "df2=df2.rename(columns = {'index':'property_id'}) # rename index\n",
    "df = pd.merge(df,df2,on = identity,how = 'left') # append ID col with merge\n",
    "cols = ['property_id','PAON','SAON','postcode','type','sale_price','sale_date'] # re-arrange cols\n",
    "df = df[cols]\n",
    "df['sale_date'] = pd.DatetimeIndex(df['sale_date']).normalize()\n",
    "df = df.sort_values(['property_id','sale_date'], ascending=True) # sort cols on new ID + end date\n",
    "df = df.reset_index(drop = True) # reset index"
   ]
  },
  {
   "cell_type": "markdown",
   "metadata": {},
   "source": [
    "In the interest of privicy I drop all remainig identifying information"
   ]
  },
  {
   "cell_type": "code",
   "execution_count": 6,
   "metadata": {
    "collapsed": true
   },
   "outputs": [],
   "source": [
    "df = df.drop(['PAON','SAON','postcode'], axis=1)"
   ]
  },
  {
   "cell_type": "markdown",
   "metadata": {},
   "source": [
    "We are left with a simple and clean dataframe to start doing the calulations."
   ]
  },
  {
   "cell_type": "code",
   "execution_count": 7,
   "metadata": {
    "collapsed": false
   },
   "outputs": [
    {
     "data": {
      "text/html": [
       "<div>\n",
       "<table border=\"1\" class=\"dataframe\">\n",
       "  <thead>\n",
       "    <tr style=\"text-align: right;\">\n",
       "      <th></th>\n",
       "      <th>property_id</th>\n",
       "      <th>type</th>\n",
       "      <th>sale_price</th>\n",
       "      <th>sale_date</th>\n",
       "    </tr>\n",
       "  </thead>\n",
       "  <tbody>\n",
       "    <tr>\n",
       "      <th>0</th>\n",
       "      <td>0</td>\n",
       "      <td>D</td>\n",
       "      <td>220000</td>\n",
       "      <td>2016-01-14</td>\n",
       "    </tr>\n",
       "    <tr>\n",
       "      <th>1</th>\n",
       "      <td>0</td>\n",
       "      <td>D</td>\n",
       "      <td>226000</td>\n",
       "      <td>2016-03-14</td>\n",
       "    </tr>\n",
       "    <tr>\n",
       "      <th>2</th>\n",
       "      <td>1</td>\n",
       "      <td>S</td>\n",
       "      <td>230000</td>\n",
       "      <td>2016-03-23</td>\n",
       "    </tr>\n",
       "    <tr>\n",
       "      <th>3</th>\n",
       "      <td>1</td>\n",
       "      <td>S</td>\n",
       "      <td>255000</td>\n",
       "      <td>2016-10-31</td>\n",
       "    </tr>\n",
       "    <tr>\n",
       "      <th>4</th>\n",
       "      <td>2</td>\n",
       "      <td>D</td>\n",
       "      <td>475000</td>\n",
       "      <td>2016-01-15</td>\n",
       "    </tr>\n",
       "  </tbody>\n",
       "</table>\n",
       "</div>"
      ],
      "text/plain": [
       "   property_id type  sale_price  sale_date\n",
       "0            0    D      220000 2016-01-14\n",
       "1            0    D      226000 2016-03-14\n",
       "2            1    S      230000 2016-03-23\n",
       "3            1    S      255000 2016-10-31\n",
       "4            2    D      475000 2016-01-15"
      ]
     },
     "execution_count": 7,
     "metadata": {},
     "output_type": "execute_result"
    }
   ],
   "source": [
    "df.head()"
   ]
  },
  {
   "cell_type": "markdown",
   "metadata": {
    "collapsed": true
   },
   "source": [
    "## 1.2 Calculating returns\n",
    "\n",
    "To make things easier, I use .groupby here to group all transactions for each property based in it's unique ID."
   ]
  },
  {
   "cell_type": "code",
   "execution_count": 8,
   "metadata": {
    "collapsed": false
   },
   "outputs": [
    {
     "data": {
      "text/plain": [
       "<pandas.core.groupby.DataFrameGroupBy object at 0x000002B939851208>"
      ]
     },
     "execution_count": 8,
     "metadata": {},
     "output_type": "execute_result"
    }
   ],
   "source": [
    "df_unique = df.groupby(df['property_id'])\n",
    "df_unique # grouped transactions for each unique property"
   ]
  },
  {
   "cell_type": "markdown",
   "metadata": {},
   "source": [
    "I first find the purchase date and purchase price of each property. Naturally the purchase date/price is just the sale date/price of the pervious transaction"
   ]
  },
  {
   "cell_type": "code",
   "execution_count": 9,
   "metadata": {
    "collapsed": true
   },
   "outputs": [],
   "source": [
    "df['purchase_date'] = df_unique['sale_date'].shift(1)\n",
    "df['purchase_price'] = df_unique['sale_price'].shift(1)"
   ]
  },
  {
   "cell_type": "markdown",
   "metadata": {},
   "source": [
    "The 'returns' are just the difference in purchase price and sale price. Given that the data is sorted cronologically, we can find this value just using .diff on the sale prices."
   ]
  },
  {
   "cell_type": "code",
   "execution_count": 10,
   "metadata": {
    "collapsed": true
   },
   "outputs": [],
   "source": [
    "df['returns'] = df_unique['sale_price'].diff() "
   ]
  },
  {
   "cell_type": "markdown",
   "metadata": {},
   "source": [
    "I also calculate the time difference (delta $\\Delta$) between purchase and sale, measured as a % of a year"
   ]
  },
  {
   "cell_type": "code",
   "execution_count": 11,
   "metadata": {
    "collapsed": true
   },
   "outputs": [],
   "source": [
    "delta = df_unique['sale_date'].diff()\n",
    "df['delta'] = delta / np.timedelta64(1, 'Y') # timedelta to % year"
   ]
  },
  {
   "cell_type": "markdown",
   "metadata": {},
   "source": [
    "We can't measure returns on the very first sale of each property, so I delete the first transaction in each group (hat tip to [unutbu @ stack exchange for fast mask method](http://stackoverflow.com/questions/31226142/python-pandas-delete-the-first-row-by-group))."
   ]
  },
  {
   "cell_type": "code",
   "execution_count": 12,
   "metadata": {
    "collapsed": false
   },
   "outputs": [],
   "source": [
    "def mask_first(x):\n",
    "    result = np.ones_like(x)\n",
    "    result[0] = 0\n",
    "    return result\n",
    "\n",
    "mask = df.groupby(['property_id'])['property_id'].transform(mask_first).astype(bool)\n",
    "df = df.loc[mask]"
   ]
  },
  {
   "cell_type": "markdown",
   "metadata": {
    "collapsed": true
   },
   "source": [
    "Finally, I do some spring cleaning to sort out the columns and datatypes"
   ]
  },
  {
   "cell_type": "code",
   "execution_count": 15,
   "metadata": {
    "collapsed": false
   },
   "outputs": [
    {
     "data": {
      "text/html": [
       "<div>\n",
       "<table border=\"1\" class=\"dataframe\">\n",
       "  <thead>\n",
       "    <tr style=\"text-align: right;\">\n",
       "      <th></th>\n",
       "      <th>property_id</th>\n",
       "      <th>type</th>\n",
       "      <th>purchase_date</th>\n",
       "      <th>sale_date</th>\n",
       "      <th>delta</th>\n",
       "      <th>purchase_price</th>\n",
       "      <th>sale_price</th>\n",
       "      <th>returns</th>\n",
       "    </tr>\n",
       "  </thead>\n",
       "  <tbody>\n",
       "    <tr>\n",
       "      <th>0</th>\n",
       "      <td>0</td>\n",
       "      <td>D</td>\n",
       "      <td>2016-01-14</td>\n",
       "      <td>2016-03-14</td>\n",
       "      <td>0.164274</td>\n",
       "      <td>220000</td>\n",
       "      <td>226000</td>\n",
       "      <td>6000</td>\n",
       "    </tr>\n",
       "    <tr>\n",
       "      <th>1</th>\n",
       "      <td>1</td>\n",
       "      <td>S</td>\n",
       "      <td>2016-03-23</td>\n",
       "      <td>2016-10-31</td>\n",
       "      <td>0.607815</td>\n",
       "      <td>230000</td>\n",
       "      <td>255000</td>\n",
       "      <td>25000</td>\n",
       "    </tr>\n",
       "    <tr>\n",
       "      <th>2</th>\n",
       "      <td>2</td>\n",
       "      <td>D</td>\n",
       "      <td>2016-01-15</td>\n",
       "      <td>2016-11-14</td>\n",
       "      <td>0.832324</td>\n",
       "      <td>475000</td>\n",
       "      <td>930000</td>\n",
       "      <td>455000</td>\n",
       "    </tr>\n",
       "    <tr>\n",
       "      <th>3</th>\n",
       "      <td>3</td>\n",
       "      <td>T</td>\n",
       "      <td>2016-06-10</td>\n",
       "      <td>2016-06-14</td>\n",
       "      <td>0.010952</td>\n",
       "      <td>70000</td>\n",
       "      <td>58000</td>\n",
       "      <td>-12000</td>\n",
       "    </tr>\n",
       "    <tr>\n",
       "      <th>4</th>\n",
       "      <td>4</td>\n",
       "      <td>F</td>\n",
       "      <td>2016-02-29</td>\n",
       "      <td>2016-03-23</td>\n",
       "      <td>0.062972</td>\n",
       "      <td>260000</td>\n",
       "      <td>160000</td>\n",
       "      <td>-100000</td>\n",
       "    </tr>\n",
       "  </tbody>\n",
       "</table>\n",
       "</div>"
      ],
      "text/plain": [
       "   property_id type purchase_date  sale_date     delta  purchase_price  \\\n",
       "0            0    D    2016-01-14 2016-03-14  0.164274          220000   \n",
       "1            1    S    2016-03-23 2016-10-31  0.607815          230000   \n",
       "2            2    D    2016-01-15 2016-11-14  0.832324          475000   \n",
       "3            3    T    2016-06-10 2016-06-14  0.010952           70000   \n",
       "4            4    F    2016-02-29 2016-03-23  0.062972          260000   \n",
       "\n",
       "   sale_price  returns  \n",
       "0      226000     6000  \n",
       "1      255000    25000  \n",
       "2      930000   455000  \n",
       "3       58000   -12000  \n",
       "4      160000  -100000  "
      ]
     },
     "execution_count": 15,
     "metadata": {},
     "output_type": "execute_result"
    }
   ],
   "source": [
    "cols = ['property_id','type','purchase_date','sale_date','delta','purchase_price','sale_price','returns'] # re-arrange cols\n",
    "df = df[cols]\n",
    "df[['property_id','purchase_price','sale_price','returns']] = df[['property_id','purchase_price','sale_price','returns']].apply(pd.Int64Index)\n",
    "df = df.reset_index(drop = True) # reset index\n",
    "df.head()"
   ]
  },
  {
   "cell_type": "markdown",
   "metadata": {},
   "source": [
    "## 1.3 Results\n",
    "\n",
    "Ok, so lets have a look at what we've got."
   ]
  },
  {
   "cell_type": "code",
   "execution_count": 20,
   "metadata": {
    "collapsed": false
   },
   "outputs": [
    {
     "data": {
      "text/plain": [
       "count        1820.000\n",
       "mean        -6109.462\n",
       "std       1144781.480\n",
       "min     -44703793.000\n",
       "25%             0.000\n",
       "50%         14675.000\n",
       "75%         45000.000\n",
       "max       2367500.000\n",
       "Name: returns, dtype: float64"
      ]
     },
     "execution_count": 20,
     "metadata": {},
     "output_type": "execute_result"
    }
   ],
   "source": [
    "pd.set_option('display.float_format', lambda x: '%.3f' % x)\n",
    "df['returns'].describe()"
   ]
  },
  {
   "cell_type": "markdown",
   "metadata": {},
   "source": [
    "Ouch, that's a loss of £44 million at the low end! On the plus side, someone made off with a £23 million in profit last year.\n",
    "\n",
    "The mean return in negative here, but I'm guessing the data is being skewed by these million pound property deals.\n",
    "\n",
    "To get a more accurate picture, I've plotted the distribution of returns with outliers removed."
   ]
  },
  {
   "cell_type": "code",
   "execution_count": 49,
   "metadata": {
    "collapsed": false
   },
   "outputs": [
    {
     "data": {
      "image/png": "[encoded data removed]",
      "text/plain": [
       "<matplotlib.figure.Figure at 0x2b93351eac8>"
      ]
     },
     "metadata": {},
     "output_type": "display_data"
    },
    {
     "name": "stdout",
     "output_type": "stream",
     "text": [
      "Made losses in 2016 = 21%\n"
     ]
    }
   ],
   "source": [
    "def reject_outliers(data, m=0.1):\n",
    "    return data[abs(data - np.mean(data)) < m * np.std(data)]\n",
    "reject_outliers(df['returns']).hist(bins=40)\n",
    "plt.ylabel('n')\n",
    "plt.xlabel('returns')\n",
    "plt.show()\n",
    "\n",
    "losses = (df['returns']<0).sum()\n",
    "N = df.shape[0]\n",
    "print(\"Made losses in 2016 = {:.0%}\".format((losses/N)))"
   ]
  },
  {
   "cell_type": "markdown",
   "metadata": {
    "collapsed": true
   },
   "source": [
    "Still, we can say that 1/5th of people buying and selling properties in 2016 made a loss doing so. But house prices always go up, right?"
   ]
  },
  {
   "cell_type": "markdown",
   "metadata": {},
   "source": [
    "### 1.3.1 Returns by type\n",
    "\n",
    "I'm also interested in whether the type (i.e., detatched, semi, flat or terraced) of property sold has an effect on returns."
   ]
  },
  {
   "cell_type": "code",
   "execution_count": 50,
   "metadata": {
    "collapsed": false
   },
   "outputs": [
    {
     "data": {
      "image/png": "[encoded data removed]",
      "text/plain": [
       "<matplotlib.figure.Figure at 0x2b934cdaba8>"
      ]
     },
     "metadata": {},
     "output_type": "display_data"
    },
    {
     "name": "stdout",
     "output_type": "stream",
     "text": [
      "For type: D - 29% made losses in 2016\n",
      "For type: F - 11% made losses in 2016\n",
      "For type: S - 26% made losses in 2016\n",
      "For type: T - 17% made losses in 2016\n"
     ]
    }
   ],
   "source": [
    "df = df[df['type'] != 'O'] # there are very few samples of 'other' type properties to warrent inclusion\n",
    "\n",
    "reject_outliers(df['returns']).hist(by=df['type'],bins=40,alpha=0.75)\n",
    "plt.show()\n",
    "\n",
    "grouped = df.groupby('type')\n",
    "\n",
    "for index, group in grouped:\n",
    "    losses = (group.returns<0).sum()\n",
    "    N = group.returns.shape[0]\n",
    "    print(\"For type:\",index,\"- {:.0%} made losses in 2016\".format((losses/N)))"
   ]
  },
  {
   "cell_type": "markdown",
   "metadata": {
    "collapsed": true
   },
   "source": [
    "Interestingly, Detached and Semi-Detached properties performed the worst. I was actually expecting flats to do worse."
   ]
  },
  {
   "cell_type": "markdown",
   "metadata": {},
   "source": [
    "Returns are not the only way of measuring performance. In the next part of this series, I will be looking at a more sifisticated measure called alpha ($\\alpha$) that shows the *relative* performance of an asset compared the a market benchmark."
   ]
  },
  {
   "cell_type": "code",
   "execution_count": null,
   "metadata": {
    "collapsed": true
   },
   "outputs": [],
   "source": []
  }
 ],
 "metadata": {
  "anaconda-cloud": {},
  "kernelspec": {
   "display_name": "Python [conda root]",
   "language": "python",
   "name": "conda-root-py"
  },
  "language_info": {
   "codemirror_mode": {
    "name": "ipython",
    "version": 3
   },
   "file_extension": ".py",
   "mimetype": "text/x-python",
   "name": "python",
   "nbconvert_exporter": "python",
   "pygments_lexer": "ipython3",
   "version": "3.5.2"
  }
 },
 "nbformat": 4,
 "nbformat_minor": 1
}
